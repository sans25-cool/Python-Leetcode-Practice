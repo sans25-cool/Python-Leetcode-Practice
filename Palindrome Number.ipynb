{
 "cells": [
  {
   "cell_type": "markdown",
   "metadata": {},
   "source": [
    "### PALINDROME NUMBER\n",
    "\n",
    "Given an integer x, return true if x is palindrome integer.\n",
    "\n",
    "An integer is a palindrome when it reads the same backward as forward. For example, 121 is palindrome while 123 is not.\n",
    "\n"
   ]
  },
  {
   "cell_type": "code",
   "execution_count": 1,
   "metadata": {},
   "outputs": [
    {
     "data": {
      "text/plain": [
       "True"
      ]
     },
     "execution_count": 1,
     "metadata": {},
     "output_type": "execute_result"
    }
   ],
   "source": [
    "def func (x):\n",
    "    if x==x[::-1]:\n",
    "        return(True)\n",
    "    else:\n",
    "        return(False)\n",
    "func('989')"
   ]
  },
  {
   "cell_type": "markdown",
   "metadata": {},
   "source": [
    "5%2= 1(will return the remainder)\n",
    "\n",
    "15//2 =7 (round the result down to nearest whole number)"
   ]
  },
  {
   "cell_type": "code",
   "execution_count": 2,
   "metadata": {},
   "outputs": [
    {
     "name": "stdout",
     "output_type": "stream",
     "text": [
      "True\n"
     ]
    }
   ],
   "source": [
    "#def func(x):\n",
    "x=424\n",
    "rev=0\n",
    "while rev<x:\n",
    "    rev=rev*10+x%10\n",
    "    x=x//10\n",
    "print( rev==x or rev//10==x)"
   ]
  },
  {
   "cell_type": "code",
   "execution_count": null,
   "metadata": {},
   "outputs": [],
   "source": []
  }
 ],
 "metadata": {
  "kernelspec": {
   "display_name": "Python 3",
   "language": "python",
   "name": "python3"
  },
  "language_info": {
   "codemirror_mode": {
    "name": "ipython",
    "version": 3
   },
   "file_extension": ".py",
   "mimetype": "text/x-python",
   "name": "python",
   "nbconvert_exporter": "python",
   "pygments_lexer": "ipython3",
   "version": "3.8.5"
  }
 },
 "nbformat": 4,
 "nbformat_minor": 4
}
