{
 "cells": [
  {
   "cell_type": "markdown",
   "metadata": {},
   "source": [
    "### \n",
    "A phrase is a palindrome if, after converting all uppercase letters into lowercase letters and removing all non-alphanumeric characters, it reads the same forward and backward. Alphanumeric characters include letters and numbers.\n",
    "\n",
    "Given a string s, return true if it is a palindrome, or false otherwise.\n",
    "\n",
    " \n",
    "\n",
    "Example 1:\n",
    "\n",
    "Input: s = \"A man, a plan, a canal: Panama\"\n",
    "Output: true\n",
    "Explanation: \"amanaplanacanalpanama\" is a palindrome."
   ]
  },
  {
   "cell_type": "code",
   "execution_count": 31,
   "metadata": {},
   "outputs": [
    {
     "name": "stdout",
     "output_type": "stream",
     "text": [
      "True\n"
     ]
    }
   ],
   "source": [
    "s=\"A man, a plan, a canal: Panama\"\n",
    "\n",
    "a=str.lower(a)\n",
    "a=a.replace(\",\",\"\")\n",
    "a=a.replace(\":\",\"\")\n",
    "a=a.replace(\" \",\"\")\n",
    "\n",
    "if a==a[::1]:\n",
    "    print(True)\n",
    "else:\n",
    "    print(False)\n"
   ]
  },
  {
   "cell_type": "code",
   "execution_count": 40,
   "metadata": {},
   "outputs": [
    {
     "data": {
      "text/plain": [
       "True"
      ]
     },
     "execution_count": 40,
     "metadata": {},
     "output_type": "execute_result"
    }
   ],
   "source": [
    "def func(s):\n",
    "    s=str.lower(s)\n",
    "    x,y=0,(len(s)-1)\n",
    "    \n",
    "    # Compare characters until they are equal.\n",
    "    while x<=y:\n",
    "        \n",
    "        # Check if there is non-alphanumeric symbol in the left of sentence.\n",
    "        if (not(s[x]>='a'and s[x]<='z')):\n",
    "            x+=1\n",
    "        \n",
    "        # Check if there is non-alphanumeric symbol in the right of the sentence.\n",
    "        elif (not(s[y]>='a' and s[y]<='z')):\n",
    "            y-=1\n",
    "        \n",
    "        # If characters are equal.\n",
    "            \n",
    "        elif (s[x]==s[y]):\n",
    "            x+=1\n",
    "            y-=1\n",
    "        else:\n",
    "            return Flase\n",
    "    return True\n",
    "func(\"A man, a plan, a canal: Panama\")"
   ]
  }
 ],
 "metadata": {
  "kernelspec": {
   "display_name": "Python 3",
   "language": "python",
   "name": "python3"
  },
  "language_info": {
   "codemirror_mode": {
    "name": "ipython",
    "version": 3
   },
   "file_extension": ".py",
   "mimetype": "text/x-python",
   "name": "python",
   "nbconvert_exporter": "python",
   "pygments_lexer": "ipython3",
   "version": "3.8.5"
  }
 },
 "nbformat": 4,
 "nbformat_minor": 4
}
